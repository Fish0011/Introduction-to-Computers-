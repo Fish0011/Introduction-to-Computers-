{
  "nbformat": 4,
  "nbformat_minor": 0,
  "metadata": {
    "colab": {
      "provenance": [],
      "authorship_tag": "ABX9TyOMeEBtF80Xon5O8StDN8LY",
      "include_colab_link": true
    },
    "kernelspec": {
      "name": "python3",
      "display_name": "Python 3"
    },
    "language_info": {
      "name": "python"
    }
  },
  "cells": [
    {
      "cell_type": "markdown",
      "metadata": {
        "id": "view-in-github",
        "colab_type": "text"
      },
      "source": [
        "<a href=\"https://colab.research.google.com/github/Fish0011/Introduction-to-Computers-/blob/main/0512.ipynb\" target=\"_parent\"><img src=\"https://colab.research.google.com/assets/colab-badge.svg\" alt=\"Open In Colab\"/></a>"
      ]
    },
    {
      "cell_type": "code",
      "execution_count": 2,
      "metadata": {
        "colab": {
          "base_uri": "https://localhost:8080/"
        },
        "id": "H5arpQwY9Ag2",
        "outputId": "05d94562-6ab3-4b2f-9e2c-94d3d37931cf"
      },
      "outputs": [
        {
          "output_type": "stream",
          "name": "stdout",
          "text": [
            "請輸入整數:43\n",
            "奇數\n",
            "Bye!!\n"
          ]
        }
      ],
      "source": [
        "num=int(input(\"請輸入整數:\"))\n",
        "if num % 2==0:  \n",
        "  print(\"偶數\")  \n",
        "else:\n",
        "  print(\"奇數\")\n",
        "print(\"Bye!!\")"
      ]
    },
    {
      "cell_type": "code",
      "source": [
        "age=int(input(\"請輸入您的年齡:\"))\n",
        "if age<18:\n",
        "  print(\"未成年人\")\n",
        "elif age>=18 and age<=65:\n",
        "  print(\"成年人\")\n",
        "else:\n",
        "  print(\"老年人\")"
      ],
      "metadata": {
        "colab": {
          "base_uri": "https://localhost:8080/"
        },
        "id": "YoSrUnSi-biv",
        "outputId": "6ca7c2d7-15b1-4e6f-c7ae-a7cdc92d47bb"
      },
      "execution_count": 3,
      "outputs": [
        {
          "output_type": "stream",
          "name": "stdout",
          "text": [
            "請輸入您的年齡:65\n",
            "成年人\n"
          ]
        }
      ]
    },
    {
      "cell_type": "code",
      "source": [
        "month=int(input(\"請輸入月份:\"))\n",
        "if month>=1 and month<=3:\n",
        "  print(\"春季\")\n",
        "elif month>=4 and month<=6:\n",
        "  print(\"夏季\")\n",
        "elif month>=7 and month<=9:\n",
        "  print(\"秋季\")\n",
        "elif month>=10 and month<=12:\n",
        "  print(\"冬季\")\n",
        "else:\n",
        "  print(\"無效月份\")"
      ],
      "metadata": {
        "colab": {
          "base_uri": "https://localhost:8080/"
        },
        "id": "2a2U_4l6_TYV",
        "outputId": "ae3dbe0c-e9cd-4dfd-ca74-ab768b653768"
      },
      "execution_count": 5,
      "outputs": [
        {
          "output_type": "stream",
          "name": "stdout",
          "text": [
            "請輸入月份:13\n",
            "無效月份\n"
          ]
        }
      ]
    }
  ]
}