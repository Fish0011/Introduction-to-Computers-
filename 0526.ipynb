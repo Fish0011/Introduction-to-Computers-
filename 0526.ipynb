{
  "nbformat": 4,
  "nbformat_minor": 0,
  "metadata": {
    "colab": {
      "provenance": [],
      "authorship_tag": "ABX9TyN08xALy7Ivy0apvol2WwLt",
      "include_colab_link": true
    },
    "kernelspec": {
      "name": "python3",
      "display_name": "Python 3"
    },
    "language_info": {
      "name": "python"
    }
  },
  "cells": [
    {
      "cell_type": "markdown",
      "metadata": {
        "id": "view-in-github",
        "colab_type": "text"
      },
      "source": [
        "<a href=\"https://colab.research.google.com/github/Fish0011/Introduction-to-Computers-/blob/main/0526.ipynb\" target=\"_parent\"><img src=\"https://colab.research.google.com/assets/colab-badge.svg\" alt=\"Open In Colab\"/></a>"
      ]
    },
    {
      "cell_type": "code",
      "execution_count": 3,
      "metadata": {
        "colab": {
          "base_uri": "https://localhost:8080/"
        },
        "id": "9BjSE-CFJJGc",
        "outputId": "4b388fba-a187-4b80-ddef-950f0aaa50b2"
      },
      "outputs": [
        {
          "output_type": "stream",
          "name": "stdout",
          "text": [
            "請輸入一個正整數:13\n",
            "1 2 3 4 5 6 7 8 9 10 11 12 13 "
          ]
        }
      ],
      "source": [
        "num=int(input(\"請輸入一個正整數:\"))\n",
        "for i in range(1,num+1):  \n",
        "  print(i, end=' ')\n"
      ]
    },
    {
      "cell_type": "code",
      "source": [
        "x=42\n",
        "y=24\n",
        "print(\"這是兩個整數:%d 和 %d\"%(x,y))"
      ],
      "metadata": {
        "colab": {
          "base_uri": "https://localhost:8080/"
        },
        "id": "jjzol7mQK0mT",
        "outputId": "7f85475a-8cc8-4e07-aa36-439407f13047"
      },
      "execution_count": 4,
      "outputs": [
        {
          "output_type": "stream",
          "name": "stdout",
          "text": [
            "這是兩個整數:42 和 24\n"
          ]
        }
      ]
    },
    {
      "cell_type": "code",
      "source": [
        "n=int(input(\"請輸入一個正整數:\"))\n",
        "total=0\n",
        "for i in range(1,n+1):\n",
        "  total+=1\n",
        "  p_sum=sum(range(1,i+1))\n",
        "  print(\"1到%d的總合為: %d\"%(i,p_sum))"
      ],
      "metadata": {
        "colab": {
          "base_uri": "https://localhost:8080/"
        },
        "id": "3YO3e-HXLV0b",
        "outputId": "e393aaa0-303a-44e7-841e-8536e28deebf"
      },
      "execution_count": 5,
      "outputs": [
        {
          "output_type": "stream",
          "name": "stdout",
          "text": [
            "請輸入一個正整數:8\n",
            "1到1的總合為: 1\n",
            "1到2的總合為: 3\n",
            "1到3的總合為: 6\n",
            "1到4的總合為: 10\n",
            "1到5的總合為: 15\n",
            "1到6的總合為: 21\n",
            "1到7的總合為: 28\n",
            "1到8的總合為: 36\n"
          ]
        }
      ]
    },
    {
      "cell_type": "code",
      "source": [
        "a=input(\"請輸入字串\")\n",
        "for i in range(len(a)):\n",
        "  if(i%2!=0):\n",
        "    print(a[i].upper(),end='')\n",
        "  else:\n",
        "    print(a[i].lower(),end='')"
      ],
      "metadata": {
        "colab": {
          "base_uri": "https://localhost:8080/"
        },
        "id": "zySeuZqkMN7R",
        "outputId": "3e1ef444-71da-4618-8518-4f9e3885a90b"
      },
      "execution_count": 6,
      "outputs": [
        {
          "output_type": "stream",
          "name": "stdout",
          "text": [
            "請輸入字串panda\n",
            "pAnDa"
          ]
        }
      ]
    },
    {
      "cell_type": "code",
      "source": [
        "n=int(input(\"請輸入整數\"))\n",
        "for i in range(1,n+1):\n",
        "  for j in range(i):\n",
        "    print(\"*\",end=\"\")\n",
        "  print()"
      ],
      "metadata": {
        "colab": {
          "base_uri": "https://localhost:8080/"
        },
        "id": "CnYd3WnFNG3Q",
        "outputId": "08e0bf43-1b32-4c7e-e5aa-1e235486f439"
      },
      "execution_count": 8,
      "outputs": [
        {
          "output_type": "stream",
          "name": "stdout",
          "text": [
            "請輸入整數5\n",
            "*\n",
            "**\n",
            "***\n",
            "****\n",
            "*****\n"
          ]
        }
      ]
    },
    {
      "cell_type": "code",
      "source": [
        "n=int(input(\"請輸入整數\"))\n",
        "for i in range(1,n+1):\n",
        "  for j in range(i):\n",
        "    print(j+1,end=\"\")\n",
        "  print()"
      ],
      "metadata": {
        "colab": {
          "base_uri": "https://localhost:8080/"
        },
        "id": "0JitVZ8AOXWo",
        "outputId": "05164ffa-ef9b-4c80-c5e2-cc2afb2d32b7"
      },
      "execution_count": 9,
      "outputs": [
        {
          "output_type": "stream",
          "name": "stdout",
          "text": [
            "請輸入整數5\n",
            "1\n",
            "12\n",
            "123\n",
            "1234\n",
            "12345\n"
          ]
        }
      ]
    },
    {
      "cell_type": "code",
      "source": [
        "n=int(input(\"請輸入整數\"))\n",
        "num_spaces=n - 1\n",
        "for i in range(1,n+1):\n",
        "    print(\" \"*num_spaces,end=\"\")\n",
        "    for j in range(i,0,-1):\n",
        "        print(j,end=\"\")\n",
        "    print()  \n",
        "    num_spaces -= 1\n"
      ],
      "metadata": {
        "colab": {
          "base_uri": "https://localhost:8080/"
        },
        "id": "XQ_1ykX8Ok-F",
        "outputId": "a44c34f1-9c4d-4953-fd64-f4428a6426e4"
      },
      "execution_count": 11,
      "outputs": [
        {
          "output_type": "stream",
          "name": "stdout",
          "text": [
            "請輸入整數5\n",
            "    1\n",
            "   21\n",
            "  321\n",
            " 4321\n",
            "54321\n"
          ]
        }
      ]
    },
    {
      "cell_type": "code",
      "source": [],
      "metadata": {
        "id": "rt8hzI_7O8DP"
      },
      "execution_count": null,
      "outputs": []
    }
  ]
}