{
  "nbformat": 4,
  "nbformat_minor": 0,
  "metadata": {
    "colab": {
      "provenance": [],
      "authorship_tag": "ABX9TyPK4Sz+rpbDvMqgKnpD4VQa",
      "include_colab_link": true
    },
    "kernelspec": {
      "name": "python3",
      "display_name": "Python 3"
    },
    "language_info": {
      "name": "python"
    }
  },
  "cells": [
    {
      "cell_type": "markdown",
      "metadata": {
        "id": "view-in-github",
        "colab_type": "text"
      },
      "source": [
        "<a href=\"https://colab.research.google.com/github/Fish0011/Introduction-to-Computers-/blob/main/0519.ipynb\" target=\"_parent\"><img src=\"https://colab.research.google.com/assets/colab-badge.svg\" alt=\"Open In Colab\"/></a>"
      ]
    },
    {
      "cell_type": "code",
      "execution_count": 2,
      "metadata": {
        "colab": {
          "base_uri": "https://localhost:8080/"
        },
        "id": "JzWQt_pThvlS",
        "outputId": "af7a6f7d-5abc-4b2b-f4f0-0bb2cd23ac99"
      },
      "outputs": [
        {
          "output_type": "stream",
          "name": "stdout",
          "text": [
            "Happy\n",
            "Happy\n",
            "Happy\n",
            "Happy\n",
            "Happy\n",
            "Happy\n",
            "Happy\n",
            "Happy\n",
            "Happy\n"
          ]
        }
      ],
      "source": [
        "count=0\n",
        "while count<9:\n",
        "  print(\"Happy\")\n",
        "  count+=1"
      ]
    },
    {
      "cell_type": "code",
      "source": [
        "for i in range(9):\n",
        "  print(\"Happy\")"
      ],
      "metadata": {
        "colab": {
          "base_uri": "https://localhost:8080/"
        },
        "id": "IHVscuxYiXD_",
        "outputId": "62f0f561-58b8-424d-ed16-762aa6a81961"
      },
      "execution_count": 3,
      "outputs": [
        {
          "output_type": "stream",
          "name": "stdout",
          "text": [
            "Happy\n",
            "Happy\n",
            "Happy\n",
            "Happy\n",
            "Happy\n",
            "Happy\n",
            "Happy\n",
            "Happy\n",
            "Happy\n"
          ]
        }
      ]
    },
    {
      "cell_type": "code",
      "source": [
        "secret_number=21\n",
        "print(\"猜猜看我心裡想的是哪個數字！\")\n",
        "while int(input(\"請輸入一個數字：\"))   != secret_number:\n",
        "      print(\"猜錯了，再試一次！\")\n",
        "print(\"恭喜妳，猜對了！\")"
      ],
      "metadata": {
        "colab": {
          "base_uri": "https://localhost:8080/"
        },
        "id": "4PhXIKdjilHr",
        "outputId": "656d3dcf-fa98-40bd-e245-562b18f20443"
      },
      "execution_count": 5,
      "outputs": [
        {
          "output_type": "stream",
          "name": "stdout",
          "text": [
            "猜猜看我心裡想的是哪個數字！\n",
            "請輸入一個數字：6\n",
            "猜錯了，再試一次！\n",
            "請輸入一個數字：21\n",
            "恭喜妳，猜對了！\n"
          ]
        }
      ]
    },
    {
      "cell_type": "code",
      "source": [
        "for j in range(5):\n",
        "  if j==3:break\n",
        "  print(j)\n",
        "print('Bye!!')"
      ],
      "metadata": {
        "colab": {
          "base_uri": "https://localhost:8080/"
        },
        "id": "f4LEfwxHle05",
        "outputId": "2e34ed52-dc86-4d04-b804-a0b11911312c"
      },
      "execution_count": 6,
      "outputs": [
        {
          "output_type": "stream",
          "name": "stdout",
          "text": [
            "0\n",
            "1\n",
            "2\n",
            "Bye!!\n"
          ]
        }
      ]
    },
    {
      "cell_type": "code",
      "source": [
        "for j in range(5):\n",
        "  if j==3:continue\n",
        "  print(j)\n",
        "print('Bye!!')"
      ],
      "metadata": {
        "colab": {
          "base_uri": "https://localhost:8080/"
        },
        "id": "HaokP3mEmNZj",
        "outputId": "c0b1fd7c-f2f5-4bc5-9768-f86168b95239"
      },
      "execution_count": 7,
      "outputs": [
        {
          "output_type": "stream",
          "name": "stdout",
          "text": [
            "0\n",
            "1\n",
            "2\n",
            "4\n",
            "Bye!!\n"
          ]
        }
      ]
    },
    {
      "cell_type": "code",
      "source": [],
      "metadata": {
        "id": "iHR3_B-ymtZP"
      },
      "execution_count": null,
      "outputs": []
    }
  ]
}